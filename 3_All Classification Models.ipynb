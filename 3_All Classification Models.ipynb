{
 "cells": [
  {
   "cell_type": "markdown",
   "id": "07a8a53b",
   "metadata": {},
   "source": [
    "# Classification Modeling\n",
    "### A.) Data Prep"
   ]
  },
  {
   "cell_type": "code",
   "execution_count": 1,
   "id": "450b036c",
   "metadata": {},
   "outputs": [],
   "source": [
    "# To hide warnings in notebooks\n",
    "\n",
    "import warnings\n",
    "warnings.filterwarnings('ignore')"
   ]
  },
  {
   "cell_type": "markdown",
   "id": "d8c4786b",
   "metadata": {},
   "source": [
    "### Loading the dataset into a Pandas dataframe"
   ]
  },
  {
   "cell_type": "code",
   "execution_count": 2,
   "id": "88fb0836",
   "metadata": {},
   "outputs": [
    {
     "data": {
      "text/html": [
       "<div>\n",
       "<style scoped>\n",
       "    .dataframe tbody tr th:only-of-type {\n",
       "        vertical-align: middle;\n",
       "    }\n",
       "\n",
       "    .dataframe tbody tr th {\n",
       "        vertical-align: top;\n",
       "    }\n",
       "\n",
       "    .dataframe thead th {\n",
       "        text-align: right;\n",
       "    }\n",
       "</style>\n",
       "<table border=\"1\" class=\"dataframe\">\n",
       "  <thead>\n",
       "    <tr style=\"text-align: right;\">\n",
       "      <th></th>\n",
       "      <th>ID</th>\n",
       "      <th>sentence</th>\n",
       "      <th>subjectivity</th>\n",
       "      <th>length</th>\n",
       "      <th>sentiment</th>\n",
       "    </tr>\n",
       "  </thead>\n",
       "  <tbody>\n",
       "    <tr>\n",
       "      <th>0</th>\n",
       "      <td>266448</td>\n",
       "      <td>Giori agreed that surgeons should only proceed with surgical cases they feel comfortable with.</td>\n",
       "      <td>0.900000</td>\n",
       "      <td>94</td>\n",
       "      <td>0</td>\n",
       "    </tr>\n",
       "    <tr>\n",
       "      <th>1</th>\n",
       "      <td>35146</td>\n",
       "      <td>If you're the doctor who reported the misbehavior, you're potentially opening a can of worms.</td>\n",
       "      <td>1.000000</td>\n",
       "      <td>93</td>\n",
       "      <td>-1</td>\n",
       "    </tr>\n",
       "    <tr>\n",
       "      <th>2</th>\n",
       "      <td>88447</td>\n",
       "      <td>\"This study is unique in including a very large number of patients, which enabled important subgroup analyses.\"</td>\n",
       "      <td>0.852381</td>\n",
       "      <td>111</td>\n",
       "      <td>1</td>\n",
       "    </tr>\n",
       "    <tr>\n",
       "      <th>3</th>\n",
       "      <td>134291</td>\n",
       "      <td>\"The fact that we can't even do that suggests that we've gotten the balance wrong.\"</td>\n",
       "      <td>0.900000</td>\n",
       "      <td>83</td>\n",
       "      <td>-1</td>\n",
       "    </tr>\n",
       "    <tr>\n",
       "      <th>4</th>\n",
       "      <td>291037</td>\n",
       "      <td>Her screams and the speeding truck prompted neighbors to report a possible abduction.</td>\n",
       "      <td>1.000000</td>\n",
       "      <td>85</td>\n",
       "      <td>-1</td>\n",
       "    </tr>\n",
       "    <tr>\n",
       "      <th>...</th>\n",
       "      <td>...</td>\n",
       "      <td>...</td>\n",
       "      <td>...</td>\n",
       "      <td>...</td>\n",
       "      <td>...</td>\n",
       "    </tr>\n",
       "    <tr>\n",
       "      <th>1995</th>\n",
       "      <td>156383</td>\n",
       "      <td>Forrest concluded that: \"These results provide patients and heart teams important data to aid in the shared decision-making process.\"</td>\n",
       "      <td>1.000000</td>\n",
       "      <td>133</td>\n",
       "      <td>0</td>\n",
       "    </tr>\n",
       "    <tr>\n",
       "      <th>1996</th>\n",
       "      <td>30453</td>\n",
       "      <td>The Washington Post: \"School shootings rose to highest number in 20 years, federal data says.\"</td>\n",
       "      <td>0.950000</td>\n",
       "      <td>94</td>\n",
       "      <td>-1</td>\n",
       "    </tr>\n",
       "    <tr>\n",
       "      <th>1997</th>\n",
       "      <td>74172</td>\n",
       "      <td>The research team found a significant survival benefit for patients receiving a living-donor liver transplant based on mortality risk and survival scores.</td>\n",
       "      <td>0.875000</td>\n",
       "      <td>154</td>\n",
       "      <td>1</td>\n",
       "    </tr>\n",
       "    <tr>\n",
       "      <th>1998</th>\n",
       "      <td>267749</td>\n",
       "      <td>One reason for this imbalance is that the mRNA vaccines that have been so successful in wealthy nations are novel, expensive and technologically challenging to produce.</td>\n",
       "      <td>0.912500</td>\n",
       "      <td>168</td>\n",
       "      <td>-1</td>\n",
       "    </tr>\n",
       "    <tr>\n",
       "      <th>1999</th>\n",
       "      <td>106836</td>\n",
       "      <td>\"If those problems are significant and go untreated, there's a risk of loss of vision in the affected eye,\" he said.</td>\n",
       "      <td>0.875000</td>\n",
       "      <td>116</td>\n",
       "      <td>-1</td>\n",
       "    </tr>\n",
       "  </tbody>\n",
       "</table>\n",
       "<p>2000 rows × 5 columns</p>\n",
       "</div>"
      ],
      "text/plain": [
       "          ID  \\\n",
       "0     266448   \n",
       "1      35146   \n",
       "2      88447   \n",
       "3     134291   \n",
       "4     291037   \n",
       "...      ...   \n",
       "1995  156383   \n",
       "1996   30453   \n",
       "1997   74172   \n",
       "1998  267749   \n",
       "1999  106836   \n",
       "\n",
       "                                                                                                                                                                      sentence  \\\n",
       "0                                                                               Giori agreed that surgeons should only proceed with surgical cases they feel comfortable with.   \n",
       "1                                                                                If you're the doctor who reported the misbehavior, you're potentially opening a can of worms.   \n",
       "2                                                              \"This study is unique in including a very large number of patients, which enabled important subgroup analyses.\"   \n",
       "3                                                                                          \"The fact that we can't even do that suggests that we've gotten the balance wrong.\"   \n",
       "4                                                                                        Her screams and the speeding truck prompted neighbors to report a possible abduction.   \n",
       "...                                                                                                                                                                        ...   \n",
       "1995                                     Forrest concluded that: \"These results provide patients and heart teams important data to aid in the shared decision-making process.\"   \n",
       "1996                                                                            The Washington Post: \"School shootings rose to highest number in 20 years, federal data says.\"   \n",
       "1997                The research team found a significant survival benefit for patients receiving a living-donor liver transplant based on mortality risk and survival scores.   \n",
       "1998  One reason for this imbalance is that the mRNA vaccines that have been so successful in wealthy nations are novel, expensive and technologically challenging to produce.   \n",
       "1999                                                      \"If those problems are significant and go untreated, there's a risk of loss of vision in the affected eye,\" he said.   \n",
       "\n",
       "      subjectivity  length  sentiment  \n",
       "0         0.900000      94          0  \n",
       "1         1.000000      93         -1  \n",
       "2         0.852381     111          1  \n",
       "3         0.900000      83         -1  \n",
       "4         1.000000      85         -1  \n",
       "...            ...     ...        ...  \n",
       "1995      1.000000     133          0  \n",
       "1996      0.950000      94         -1  \n",
       "1997      0.875000     154          1  \n",
       "1998      0.912500     168         -1  \n",
       "1999      0.875000     116         -1  \n",
       "\n",
       "[2000 rows x 5 columns]"
      ]
     },
     "execution_count": 2,
     "metadata": {},
     "output_type": "execute_result"
    }
   ],
   "source": [
    "# Read in manually classified sentences CSV\n",
    "\n",
    "import pandas as pd\n",
    "pd.set_option('display.max_colwidth', 200)\n",
    "\n",
    "man_class = pd.read_csv(\"CleanSentenceSentiment.csv\", sep=\",\")\n",
    "man_class"
   ]
  },
  {
   "cell_type": "code",
   "execution_count": 3,
   "id": "521c7eb4",
   "metadata": {},
   "outputs": [
    {
     "data": {
      "text/html": [
       "<div>\n",
       "<style scoped>\n",
       "    .dataframe tbody tr th:only-of-type {\n",
       "        vertical-align: middle;\n",
       "    }\n",
       "\n",
       "    .dataframe tbody tr th {\n",
       "        vertical-align: top;\n",
       "    }\n",
       "\n",
       "    .dataframe thead th {\n",
       "        text-align: right;\n",
       "    }\n",
       "</style>\n",
       "<table border=\"1\" class=\"dataframe\">\n",
       "  <thead>\n",
       "    <tr style=\"text-align: right;\">\n",
       "      <th></th>\n",
       "      <th>sentence</th>\n",
       "      <th>sentiment</th>\n",
       "    </tr>\n",
       "  </thead>\n",
       "  <tbody>\n",
       "    <tr>\n",
       "      <th>0</th>\n",
       "      <td>Giori agreed that surgeons should only proceed with surgical cases they feel comfortable with.</td>\n",
       "      <td>0</td>\n",
       "    </tr>\n",
       "    <tr>\n",
       "      <th>1</th>\n",
       "      <td>If you're the doctor who reported the misbehavior, you're potentially opening a can of worms.</td>\n",
       "      <td>-1</td>\n",
       "    </tr>\n",
       "    <tr>\n",
       "      <th>2</th>\n",
       "      <td>\"This study is unique in including a very large number of patients, which enabled important subgroup analyses.\"</td>\n",
       "      <td>1</td>\n",
       "    </tr>\n",
       "    <tr>\n",
       "      <th>3</th>\n",
       "      <td>\"The fact that we can't even do that suggests that we've gotten the balance wrong.\"</td>\n",
       "      <td>-1</td>\n",
       "    </tr>\n",
       "    <tr>\n",
       "      <th>4</th>\n",
       "      <td>Her screams and the speeding truck prompted neighbors to report a possible abduction.</td>\n",
       "      <td>-1</td>\n",
       "    </tr>\n",
       "    <tr>\n",
       "      <th>...</th>\n",
       "      <td>...</td>\n",
       "      <td>...</td>\n",
       "    </tr>\n",
       "    <tr>\n",
       "      <th>1995</th>\n",
       "      <td>Forrest concluded that: \"These results provide patients and heart teams important data to aid in the shared decision-making process.\"</td>\n",
       "      <td>0</td>\n",
       "    </tr>\n",
       "    <tr>\n",
       "      <th>1996</th>\n",
       "      <td>The Washington Post: \"School shootings rose to highest number in 20 years, federal data says.\"</td>\n",
       "      <td>-1</td>\n",
       "    </tr>\n",
       "    <tr>\n",
       "      <th>1997</th>\n",
       "      <td>The research team found a significant survival benefit for patients receiving a living-donor liver transplant based on mortality risk and survival scores.</td>\n",
       "      <td>1</td>\n",
       "    </tr>\n",
       "    <tr>\n",
       "      <th>1998</th>\n",
       "      <td>One reason for this imbalance is that the mRNA vaccines that have been so successful in wealthy nations are novel, expensive and technologically challenging to produce.</td>\n",
       "      <td>-1</td>\n",
       "    </tr>\n",
       "    <tr>\n",
       "      <th>1999</th>\n",
       "      <td>\"If those problems are significant and go untreated, there's a risk of loss of vision in the affected eye,\" he said.</td>\n",
       "      <td>-1</td>\n",
       "    </tr>\n",
       "  </tbody>\n",
       "</table>\n",
       "<p>2000 rows × 2 columns</p>\n",
       "</div>"
      ],
      "text/plain": [
       "                                                                                                                                                                      sentence  \\\n",
       "0                                                                               Giori agreed that surgeons should only proceed with surgical cases they feel comfortable with.   \n",
       "1                                                                                If you're the doctor who reported the misbehavior, you're potentially opening a can of worms.   \n",
       "2                                                              \"This study is unique in including a very large number of patients, which enabled important subgroup analyses.\"   \n",
       "3                                                                                          \"The fact that we can't even do that suggests that we've gotten the balance wrong.\"   \n",
       "4                                                                                        Her screams and the speeding truck prompted neighbors to report a possible abduction.   \n",
       "...                                                                                                                                                                        ...   \n",
       "1995                                     Forrest concluded that: \"These results provide patients and heart teams important data to aid in the shared decision-making process.\"   \n",
       "1996                                                                            The Washington Post: \"School shootings rose to highest number in 20 years, federal data says.\"   \n",
       "1997                The research team found a significant survival benefit for patients receiving a living-donor liver transplant based on mortality risk and survival scores.   \n",
       "1998  One reason for this imbalance is that the mRNA vaccines that have been so successful in wealthy nations are novel, expensive and technologically challenging to produce.   \n",
       "1999                                                      \"If those problems are significant and go untreated, there's a risk of loss of vision in the affected eye,\" he said.   \n",
       "\n",
       "      sentiment  \n",
       "0             0  \n",
       "1            -1  \n",
       "2             1  \n",
       "3            -1  \n",
       "4            -1  \n",
       "...         ...  \n",
       "1995          0  \n",
       "1996         -1  \n",
       "1997          1  \n",
       "1998         -1  \n",
       "1999         -1  \n",
       "\n",
       "[2000 rows x 2 columns]"
      ]
     },
     "execution_count": 3,
     "metadata": {},
     "output_type": "execute_result"
    }
   ],
   "source": [
    "# Extract only sentence and polarity sentiment data from created dataframe\n",
    "\n",
    "man_class = man_class[['sentence', 'sentiment']]\n",
    "man_class"
   ]
  },
  {
   "cell_type": "code",
   "execution_count": 4,
   "id": "0e888534",
   "metadata": {},
   "outputs": [
    {
     "name": "stdout",
     "output_type": "stream",
     "text": [
      "<class 'pandas.core.frame.DataFrame'>\n",
      "RangeIndex: 2000 entries, 0 to 1999\n",
      "Data columns (total 2 columns):\n",
      " #   Column     Non-Null Count  Dtype \n",
      "---  ------     --------------  ----- \n",
      " 0   sentence   2000 non-null   object\n",
      " 1   sentiment  2000 non-null   int64 \n",
      "dtypes: int64(1), object(1)\n",
      "memory usage: 31.4+ KB\n"
     ]
    }
   ],
   "source": [
    "# Check structure of dataframe\n",
    "\n",
    "man_class.info()"
   ]
  },
  {
   "cell_type": "markdown",
   "id": "d347667e",
   "metadata": {},
   "source": [
    "### Remove biases in the data"
   ]
  },
  {
   "cell_type": "code",
   "execution_count": 5,
   "id": "14b3b7f4",
   "metadata": {},
   "outputs": [
    {
     "data": {
      "text/plain": [
       " 0    1174\n",
       "-1     504\n",
       " 1     322\n",
       "Name: sentiment, dtype: int64"
      ]
     },
     "execution_count": 5,
     "metadata": {},
     "output_type": "execute_result"
    }
   ],
   "source": [
    "# Obtain counts for categorical polarity sentiment values\n",
    "\n",
    "man_class.sentiment.value_counts()"
   ]
  },
  {
   "cell_type": "raw",
   "id": "4c6544f5",
   "metadata": {},
   "source": [
    "To even out the number of each class our model is trained upon:\n",
    "\n",
    " 0       1174 --> 504\n",
    "-1       504  --> 504\n",
    " 1       322  --> 322"
   ]
  },
  {
   "cell_type": "code",
   "execution_count": 6,
   "id": "79f197fe",
   "metadata": {},
   "outputs": [],
   "source": [
    "N = 504"
   ]
  },
  {
   "cell_type": "code",
   "execution_count": 7,
   "id": "8db6f1a6",
   "metadata": {},
   "outputs": [],
   "source": [
    "# Randomly sample 504 records from the sentences classified as neutral for the unbiased dataset\n",
    "\n",
    "man_class_neutral = man_class[man_class.sentiment == 0].sample(n=N, random_state=0)"
   ]
  },
  {
   "cell_type": "code",
   "execution_count": 8,
   "id": "f537e4a4",
   "metadata": {},
   "outputs": [],
   "source": [
    "# Pull all records from sentences classified as negative and positive for the unbiased dataset\n",
    "\n",
    "man_class_positive = man_class[man_class.sentiment == 1]\n",
    "man_class_negative = man_class[man_class.sentiment == -1]"
   ]
  },
  {
   "cell_type": "code",
   "execution_count": 9,
   "id": "24c4210d",
   "metadata": {},
   "outputs": [
    {
     "data": {
      "text/plain": [
       " 0    504\n",
       "-1    504\n",
       " 1    322\n",
       "Name: sentiment, dtype: int64"
      ]
     },
     "execution_count": 9,
     "metadata": {},
     "output_type": "execute_result"
    }
   ],
   "source": [
    "# Join records to form unbiased dataset\n",
    "\n",
    "man_class_unbiased = pd.concat([man_class_neutral, man_class_positive, man_class_negative], axis=0)\n",
    "man_class_unbiased.sentiment.value_counts()"
   ]
  },
  {
   "cell_type": "markdown",
   "id": "cb205d84",
   "metadata": {},
   "source": [
    "### Cleaning the data"
   ]
  },
  {
   "cell_type": "code",
   "execution_count": 10,
   "id": "1267db39",
   "metadata": {},
   "outputs": [
    {
     "data": {
      "text/plain": [
       "Among the key findings: - 49.9% of patients on maintenance mirikizumab achieved clinical remission at one year compared with 25.1% of patients on placebo (P<0.001).            1\n",
       "Katzer confirmed that MSF is still finding access to the northwest part of Syria extremely difficult, since there is only one open border crossing between Turkey and Syria.    1\n",
       "Finding the Energy  Time was not the only factor that physicians said stole from their ability to maintain friendships.                                                         1\n",
       "When he approached pharmaceutical companies, well before the pandemic, showing them his \"beautiful vaccine data,\" he was told there would be no use for them, he said.          1\n",
       "\"We can now fully understand the devastating impact the virus had on communities of color across generations.\"                                                                  1\n",
       "                                                                                                                                                                               ..\n",
       "There were no significant differences in the stage of disease between the two racial groups.                                                                                    1\n",
       "Liver transplantation, which eliminates end-stage liver disease, is the only definitive treatment for HRS.                                                                      1\n",
       "\"Patients should be carefully counseled regarding benefits and harms from pancreatic cancer screening,\" Silva-Santisteban said.                                                 1\n",
       "Patients experienced the benefit of superior disease control but also additional toxicities, treatment pauses and discontinuations,\" he pointed out.                            1\n",
       "\"If those problems are significant and go untreated, there's a risk of loss of vision in the affected eye,\" he said.                                                            1\n",
       "Name: sentence, Length: 1330, dtype: int64"
      ]
     },
     "execution_count": 10,
     "metadata": {},
     "output_type": "execute_result"
    }
   ],
   "source": [
    "# Check for any sentences found in the dataframe more than one time\n",
    "\n",
    "man_class_unbiased.sentence.value_counts()"
   ]
  },
  {
   "cell_type": "code",
   "execution_count": 11,
   "id": "c64fa8cd",
   "metadata": {},
   "outputs": [
    {
     "data": {
      "text/html": [
       "<div>\n",
       "<style scoped>\n",
       "    .dataframe tbody tr th:only-of-type {\n",
       "        vertical-align: middle;\n",
       "    }\n",
       "\n",
       "    .dataframe tbody tr th {\n",
       "        vertical-align: top;\n",
       "    }\n",
       "\n",
       "    .dataframe thead th {\n",
       "        text-align: right;\n",
       "    }\n",
       "</style>\n",
       "<table border=\"1\" class=\"dataframe\">\n",
       "  <thead>\n",
       "    <tr style=\"text-align: right;\">\n",
       "      <th></th>\n",
       "      <th>sentence</th>\n",
       "      <th>sentiment</th>\n",
       "    </tr>\n",
       "  </thead>\n",
       "  <tbody>\n",
       "    <tr>\n",
       "      <th>667</th>\n",
       "      <td>Among the key findings: - 49.9% of patients on maintenance mirikizumab achieved clinical remission at one year compared with 25.1% of patients on placebo (P&lt;0.001).</td>\n",
       "      <td>0</td>\n",
       "    </tr>\n",
       "    <tr>\n",
       "      <th>1343</th>\n",
       "      <td>Since the law passed, clinics statewide have experienced its chilling effect, reporting that they have performed fewer abortions.</td>\n",
       "      <td>0</td>\n",
       "    </tr>\n",
       "    <tr>\n",
       "      <th>1818</th>\n",
       "      <td>Key Takeaway   Esophagectomy for esophageal squamous cell carcinoma (ESCC) should be performed 6–8 weeks after the end of neoadjuvant chemotherapy.</td>\n",
       "      <td>0</td>\n",
       "    </tr>\n",
       "    <tr>\n",
       "      <th>1376</th>\n",
       "      <td>There also wasn't a significant difference in distribution regarding adenomatous polyp location, size, or morphology.</td>\n",
       "      <td>0</td>\n",
       "    </tr>\n",
       "    <tr>\n",
       "      <th>1475</th>\n",
       "      <td>The absolute number of potentially preventable ED visits among cancer patients increased from about 1.8 million in 2012 to 3.2 million in 2019.</td>\n",
       "      <td>0</td>\n",
       "    </tr>\n",
       "    <tr>\n",
       "      <th>...</th>\n",
       "      <td>...</td>\n",
       "      <td>...</td>\n",
       "    </tr>\n",
       "    <tr>\n",
       "      <th>1983</th>\n",
       "      <td>The court has so far rejected the company's petitions to hear Roundup lawsuits.</td>\n",
       "      <td>-1</td>\n",
       "    </tr>\n",
       "    <tr>\n",
       "      <th>1986</th>\n",
       "      <td>The results showed that the median time on the waiting list was 6 months and that only 25% of patients eventually received CAR T-cell therapy.</td>\n",
       "      <td>-1</td>\n",
       "    </tr>\n",
       "    <tr>\n",
       "      <th>1996</th>\n",
       "      <td>The Washington Post: \"School shootings rose to highest number in 20 years, federal data says.\"</td>\n",
       "      <td>-1</td>\n",
       "    </tr>\n",
       "    <tr>\n",
       "      <th>1998</th>\n",
       "      <td>One reason for this imbalance is that the mRNA vaccines that have been so successful in wealthy nations are novel, expensive and technologically challenging to produce.</td>\n",
       "      <td>-1</td>\n",
       "    </tr>\n",
       "    <tr>\n",
       "      <th>1999</th>\n",
       "      <td>\"If those problems are significant and go untreated, there's a risk of loss of vision in the affected eye,\" he said.</td>\n",
       "      <td>-1</td>\n",
       "    </tr>\n",
       "  </tbody>\n",
       "</table>\n",
       "<p>1330 rows × 2 columns</p>\n",
       "</div>"
      ],
      "text/plain": [
       "                                                                                                                                                                      sentence  \\\n",
       "667       Among the key findings: - 49.9% of patients on maintenance mirikizumab achieved clinical remission at one year compared with 25.1% of patients on placebo (P<0.001).   \n",
       "1343                                         Since the law passed, clinics statewide have experienced its chilling effect, reporting that they have performed fewer abortions.   \n",
       "1818                       Key Takeaway   Esophagectomy for esophageal squamous cell carcinoma (ESCC) should be performed 6–8 weeks after the end of neoadjuvant chemotherapy.   \n",
       "1376                                                     There also wasn't a significant difference in distribution regarding adenomatous polyp location, size, or morphology.   \n",
       "1475                           The absolute number of potentially preventable ED visits among cancer patients increased from about 1.8 million in 2012 to 3.2 million in 2019.   \n",
       "...                                                                                                                                                                        ...   \n",
       "1983                                                                                           The court has so far rejected the company's petitions to hear Roundup lawsuits.   \n",
       "1986                            The results showed that the median time on the waiting list was 6 months and that only 25% of patients eventually received CAR T-cell therapy.   \n",
       "1996                                                                            The Washington Post: \"School shootings rose to highest number in 20 years, federal data says.\"   \n",
       "1998  One reason for this imbalance is that the mRNA vaccines that have been so successful in wealthy nations are novel, expensive and technologically challenging to produce.   \n",
       "1999                                                      \"If those problems are significant and go untreated, there's a risk of loss of vision in the affected eye,\" he said.   \n",
       "\n",
       "      sentiment  \n",
       "667           0  \n",
       "1343          0  \n",
       "1818          0  \n",
       "1376          0  \n",
       "1475          0  \n",
       "...         ...  \n",
       "1983         -1  \n",
       "1986         -1  \n",
       "1996         -1  \n",
       "1998         -1  \n",
       "1999         -1  \n",
       "\n",
       "[1330 rows x 2 columns]"
      ]
     },
     "execution_count": 11,
     "metadata": {},
     "output_type": "execute_result"
    }
   ],
   "source": [
    "# Drop any duplicate sentences from dataframe\n",
    "# No duplicates found in unbiased dataset, but kept code in case changes were made\n",
    "\n",
    "man_class_unbiased = man_class_unbiased.drop_duplicates(keep=\"first\")\n",
    "man_class_unbiased"
   ]
  },
  {
   "cell_type": "markdown",
   "id": "6da7579f",
   "metadata": {},
   "source": [
    "### Preparing data for modeling"
   ]
  },
  {
   "cell_type": "code",
   "execution_count": 12,
   "id": "a3dfa1fc",
   "metadata": {},
   "outputs": [
    {
     "data": {
      "text/plain": [
       "<1330x5081 sparse matrix of type '<class 'numpy.float64'>'\n",
       "\twith 13352 stored elements in Compressed Sparse Row format>"
      ]
     },
     "execution_count": 12,
     "metadata": {},
     "output_type": "execute_result"
    }
   ],
   "source": [
    "from sklearn.feature_extraction.text import TfidfVectorizer\n",
    "\n",
    "vectorizer = TfidfVectorizer(use_idf=True, norm=\"l2\", stop_words=\"english\", max_df=0.7)\n",
    "X = vectorizer.fit_transform(man_class_unbiased.sentence)\n",
    "X"
   ]
  },
  {
   "cell_type": "code",
   "execution_count": 13,
   "id": "b0106539",
   "metadata": {},
   "outputs": [
    {
     "data": {
      "text/plain": [
       "667     0\n",
       "1343    0\n",
       "1818    0\n",
       "1376    0\n",
       "1475    0\n",
       "       ..\n",
       "1983   -1\n",
       "1986   -1\n",
       "1996   -1\n",
       "1998   -1\n",
       "1999   -1\n",
       "Name: sentiment, Length: 1330, dtype: int64"
      ]
     },
     "execution_count": 13,
     "metadata": {},
     "output_type": "execute_result"
    }
   ],
   "source": [
    "y = man_class_unbiased.sentiment\n",
    "y"
   ]
  },
  {
   "cell_type": "code",
   "execution_count": 14,
   "id": "260d9729",
   "metadata": {},
   "outputs": [
    {
     "data": {
      "text/plain": [
       "((1330, 5081), (1330,))"
      ]
     },
     "execution_count": 14,
     "metadata": {},
     "output_type": "execute_result"
    }
   ],
   "source": [
    "X.shape, y.shape"
   ]
  },
  {
   "cell_type": "code",
   "execution_count": 15,
   "id": "1f73a335",
   "metadata": {},
   "outputs": [],
   "source": [
    "# Obtain test and train sets from data\n",
    "\n",
    "from sklearn.model_selection import train_test_split\n",
    "\n",
    "X_train, X_test, y_train, y_test = train_test_split(X, y, test_size=0.2, random_state=0)"
   ]
  },
  {
   "cell_type": "code",
   "execution_count": 16,
   "id": "b142e6de",
   "metadata": {},
   "outputs": [
    {
     "data": {
      "text/plain": [
       "((1064, 5081), (1064,), (266, 5081), (266,))"
      ]
     },
     "execution_count": 16,
     "metadata": {},
     "output_type": "execute_result"
    }
   ],
   "source": [
    "# Training set: 1064 sentences (80% of data)\n",
    "# Testing set: 266 sentences (20% of data)\n",
    "\n",
    "X_train.shape, y_train.shape, X_test.shape, y_test.shape"
   ]
  },
  {
   "cell_type": "markdown",
   "id": "79d1cdc6",
   "metadata": {},
   "source": [
    "# B.) Classification Models"
   ]
  },
  {
   "cell_type": "markdown",
   "id": "8cc11b73",
   "metadata": {},
   "source": [
    "## 1.) Modeling with k-Nearest Neighbors (k-NNs)"
   ]
  },
  {
   "cell_type": "markdown",
   "id": "d760d3d5",
   "metadata": {},
   "source": [
    "### I.) Initialize a model object with initial parameters"
   ]
  },
  {
   "cell_type": "code",
   "execution_count": 17,
   "id": "73181535",
   "metadata": {},
   "outputs": [
    {
     "data": {
      "text/plain": [
       "KNeighborsClassifier(n_neighbors=1)"
      ]
     },
     "execution_count": 17,
     "metadata": {},
     "output_type": "execute_result"
    }
   ],
   "source": [
    "from sklearn.neighbors import KNeighborsClassifier \n",
    "\n",
    "knc = KNeighborsClassifier(n_neighbors=1)\n",
    "knc"
   ]
  },
  {
   "cell_type": "markdown",
   "id": "582c00ab",
   "metadata": {},
   "source": [
    "### II.) Fit model on the training data"
   ]
  },
  {
   "cell_type": "code",
   "execution_count": 18,
   "id": "3d7cbfff",
   "metadata": {},
   "outputs": [
    {
     "data": {
      "text/plain": [
       "KNeighborsClassifier(n_neighbors=1)"
      ]
     },
     "execution_count": 18,
     "metadata": {},
     "output_type": "execute_result"
    }
   ],
   "source": [
    "knc.fit(X_train, y_train)"
   ]
  },
  {
   "cell_type": "markdown",
   "id": "97e498a5",
   "metadata": {},
   "source": [
    "### III.) Evaluate the model performance"
   ]
  },
  {
   "cell_type": "markdown",
   "id": "0dad30ef",
   "metadata": {},
   "source": [
    "#### Prediction Accuracy"
   ]
  },
  {
   "cell_type": "code",
   "execution_count": 19,
   "id": "63387394",
   "metadata": {
    "scrolled": true
   },
   "outputs": [
    {
     "data": {
      "text/plain": [
       "1.0"
      ]
     },
     "execution_count": 19,
     "metadata": {},
     "output_type": "execute_result"
    }
   ],
   "source": [
    "knc.score(X_train, y_train)                   # Get the training set accuracy of the model "
   ]
  },
  {
   "cell_type": "code",
   "execution_count": 20,
   "id": "cebbcaba",
   "metadata": {},
   "outputs": [
    {
     "data": {
      "text/plain": [
       "0.40977443609022557"
      ]
     },
     "execution_count": 20,
     "metadata": {},
     "output_type": "execute_result"
    }
   ],
   "source": [
    "knc.score(X_test, y_test)                     # Get the test set accuracy of the model "
   ]
  },
  {
   "cell_type": "markdown",
   "id": "6a26c84f",
   "metadata": {},
   "source": [
    "#### Confusion Matrix"
   ]
  },
  {
   "cell_type": "code",
   "execution_count": 21,
   "id": "db02974b",
   "metadata": {
    "scrolled": true
   },
   "outputs": [
    {
     "data": {
      "text/plain": [
       "1815   -1\n",
       "16      0\n",
       "453     0\n",
       "1786    0\n",
       "551    -1\n",
       "       ..\n",
       "1159    0\n",
       "889    -1\n",
       "605     1\n",
       "1601    0\n",
       "1545    0\n",
       "Name: sentiment, Length: 266, dtype: int64"
      ]
     },
     "execution_count": 21,
     "metadata": {},
     "output_type": "execute_result"
    }
   ],
   "source": [
    "y_true = y_test\n",
    "y_true"
   ]
  },
  {
   "cell_type": "code",
   "execution_count": 22,
   "id": "cd7c7fab",
   "metadata": {
    "scrolled": true
   },
   "outputs": [
    {
     "data": {
      "text/plain": [
       "array([ 0,  1,  0,  0,  0,  0, -1, -1, -1,  0, -1,  0, -1,  0, -1,  0, -1,\n",
       "        0, -1,  1,  0,  1,  1,  0,  1,  0, -1, -1,  1,  1,  1,  0,  0,  0,\n",
       "        1,  0, -1, -1,  1,  1,  1,  1,  1,  1,  0,  0, -1,  0,  0,  1, -1,\n",
       "       -1,  0,  0,  0,  1,  1, -1, -1,  0, -1,  0,  0,  1, -1,  1, -1, -1,\n",
       "        0, -1,  0,  1,  0,  0,  0,  0,  1,  0,  0,  0,  0, -1, -1,  0,  1,\n",
       "       -1, -1,  0, -1, -1, -1, -1, -1, -1, -1,  0,  1, -1, -1,  0,  0,  1,\n",
       "        0,  0, -1,  0,  0, -1,  0, -1,  0, -1,  0,  1,  0, -1, -1, -1, -1,\n",
       "        0, -1,  0, -1, -1,  0,  1, -1,  0,  0, -1,  0,  0, -1, -1,  1,  0,\n",
       "       -1,  0,  0, -1, -1, -1, -1,  1, -1, -1,  1, -1,  0,  0,  0, -1,  1,\n",
       "        0,  1,  1,  0, -1,  0,  1,  0,  1,  0,  0,  0,  0,  0,  0, -1,  0,\n",
       "        0,  0,  0,  1, -1,  0,  1,  1, -1,  1, -1,  1,  0, -1, -1,  1, -1,\n",
       "        1, -1,  1, -1,  0, -1,  0,  0, -1, -1,  1,  1, -1, -1,  0,  1,  1,\n",
       "       -1, -1, -1, -1,  1,  0, -1,  0,  1,  1,  0,  0,  0, -1, -1, -1, -1,\n",
       "        1,  1, -1,  1,  1, -1, -1, -1,  0, -1, -1, -1, -1, -1,  0,  1, -1,\n",
       "       -1,  0,  0,  1,  1,  0, -1,  1,  0,  1, -1,  0,  0,  0,  0,  1,  0,\n",
       "        1,  1,  0,  1,  1,  0, -1, -1,  1,  1,  0])"
      ]
     },
     "execution_count": 22,
     "metadata": {},
     "output_type": "execute_result"
    }
   ],
   "source": [
    "y_pred = knc.predict(X_test)\n",
    "y_pred"
   ]
  },
  {
   "cell_type": "code",
   "execution_count": 23,
   "id": "a9551faa",
   "metadata": {},
   "outputs": [],
   "source": [
    "from sklearn.metrics import confusion_matrix, classification_report"
   ]
  },
  {
   "cell_type": "code",
   "execution_count": 24,
   "id": "e121f0d6",
   "metadata": {},
   "outputs": [
    {
     "name": "stdout",
     "output_type": "stream",
     "text": [
      "[[43 38 17]\n",
      " [34 43 26]\n",
      " [21 21 23]]\n"
     ]
    }
   ],
   "source": [
    "print(confusion_matrix(y_true, y_pred))"
   ]
  },
  {
   "cell_type": "code",
   "execution_count": 25,
   "id": "4b2971c9",
   "metadata": {},
   "outputs": [
    {
     "data": {
      "text/html": [
       "<div>\n",
       "<style scoped>\n",
       "    .dataframe tbody tr th:only-of-type {\n",
       "        vertical-align: middle;\n",
       "    }\n",
       "\n",
       "    .dataframe tbody tr th {\n",
       "        vertical-align: top;\n",
       "    }\n",
       "\n",
       "    .dataframe thead th {\n",
       "        text-align: right;\n",
       "    }\n",
       "</style>\n",
       "<table border=\"1\" class=\"dataframe\">\n",
       "  <thead>\n",
       "    <tr style=\"text-align: right;\">\n",
       "      <th></th>\n",
       "      <th>-1</th>\n",
       "      <th>0</th>\n",
       "      <th>1</th>\n",
       "    </tr>\n",
       "  </thead>\n",
       "  <tbody>\n",
       "    <tr>\n",
       "      <th>-1</th>\n",
       "      <td>43</td>\n",
       "      <td>38</td>\n",
       "      <td>17</td>\n",
       "    </tr>\n",
       "    <tr>\n",
       "      <th>0</th>\n",
       "      <td>34</td>\n",
       "      <td>43</td>\n",
       "      <td>26</td>\n",
       "    </tr>\n",
       "    <tr>\n",
       "      <th>1</th>\n",
       "      <td>21</td>\n",
       "      <td>21</td>\n",
       "      <td>23</td>\n",
       "    </tr>\n",
       "  </tbody>\n",
       "</table>\n",
       "</div>"
      ],
      "text/plain": [
       "    -1   0   1\n",
       "-1  43  38  17\n",
       " 0  34  43  26\n",
       " 1  21  21  23"
      ]
     },
     "execution_count": 25,
     "metadata": {},
     "output_type": "execute_result"
    }
   ],
   "source": [
    "cm = pd.DataFrame(data=confusion_matrix(y_true, y_pred), index=knc.classes_, columns=knc.classes_)\n",
    "cm"
   ]
  },
  {
   "cell_type": "markdown",
   "id": "0cad8aa8",
   "metadata": {},
   "source": [
    "#### Classification Report"
   ]
  },
  {
   "cell_type": "code",
   "execution_count": 26,
   "id": "aa14f688",
   "metadata": {},
   "outputs": [
    {
     "name": "stdout",
     "output_type": "stream",
     "text": [
      "              precision    recall  f1-score   support\n",
      "\n",
      "          -1       0.44      0.44      0.44        98\n",
      "           0       0.42      0.42      0.42       103\n",
      "           1       0.35      0.35      0.35        65\n",
      "\n",
      "    accuracy                           0.41       266\n",
      "   macro avg       0.40      0.40      0.40       266\n",
      "weighted avg       0.41      0.41      0.41       266\n",
      "\n"
     ]
    }
   ],
   "source": [
    "print(classification_report(y_true, y_pred))"
   ]
  },
  {
   "cell_type": "markdown",
   "id": "dd6d29c6",
   "metadata": {},
   "source": [
    "### IV.) Perform cross validation and choose the best parameters if there are parameters to optimize"
   ]
  },
  {
   "cell_type": "code",
   "execution_count": 27,
   "id": "6dd318d6",
   "metadata": {},
   "outputs": [],
   "source": [
    "from sklearn.model_selection import cross_val_score"
   ]
  },
  {
   "cell_type": "code",
   "execution_count": 28,
   "id": "0908db13",
   "metadata": {},
   "outputs": [
    {
     "data": {
      "text/plain": [
       "array([0.42723005, 0.40375587, 0.53051643, 0.43192488, 0.44811321])"
      ]
     },
     "execution_count": 28,
     "metadata": {},
     "output_type": "execute_result"
    }
   ],
   "source": [
    "# Cross validation using 5 folds\n",
    "\n",
    "knc = KNeighborsClassifier(n_neighbors=1)\n",
    "scores_k1 = cross_val_score(knc, X_train, y_train, cv=5)\n",
    "scores_k1"
   ]
  },
  {
   "cell_type": "code",
   "execution_count": 29,
   "id": "15b413da",
   "metadata": {},
   "outputs": [
    {
     "data": {
      "text/plain": [
       "(0.5305164319248826,\n",
       " 0.40375586854460094,\n",
       " 0.4483080875188237,\n",
       " 0.04348756898347918)"
      ]
     },
     "execution_count": 29,
     "metadata": {},
     "output_type": "execute_result"
    }
   ],
   "source": [
    "scores_k1.max(), scores_k1.min(), scores_k1.mean(), scores_k1.std()"
   ]
  },
  {
   "cell_type": "markdown",
   "id": "5895b43a",
   "metadata": {},
   "source": [
    "#### To find the right parameter for k that yields the best performance:"
   ]
  },
  {
   "cell_type": "code",
   "execution_count": 30,
   "id": "ced13df5",
   "metadata": {
    "scrolled": true
   },
   "outputs": [
    {
     "name": "stdout",
     "output_type": "stream",
     "text": [
      "k = 1: [0.42723005 0.40375587 0.53051643 0.43192488 0.44811321]\n",
      "0.448, 0.043\n",
      "\n",
      "k = 3: [0.45539906 0.4741784  0.50234742 0.46478873 0.48113208]\n",
      "0.476, 0.016\n",
      "\n",
      "k = 10: [0.45539906 0.52112676 0.49295775 0.46478873 0.49528302]\n",
      "0.486, 0.023\n",
      "\n",
      "k = 20: [0.53521127 0.48826291 0.50704225 0.46948357 0.48113208]\n",
      "0.496, 0.023\n",
      "\n",
      "k = 25: [0.54929577 0.48826291 0.49765258 0.46478873 0.48584906]\n",
      "0.497, 0.028\n",
      "\n",
      "k = 26: [0.54929577 0.4741784  0.4741784  0.46478873 0.49056604]\n",
      "0.491, 0.03\n",
      "\n",
      "k = 27: [0.55868545 0.4741784  0.44600939 0.48356808 0.48584906]\n",
      "0.49, 0.037\n",
      "\n",
      "k = 28: [0.56338028 0.46948357 0.47887324 0.48826291 0.48113208]\n",
      "0.496, 0.034\n",
      "\n",
      "k = 29: [0.54460094 0.47887324 0.48826291 0.46948357 0.47169811]\n",
      "0.491, 0.028\n",
      "\n",
      "k = 30: [0.51643192 0.48826291 0.4600939  0.47887324 0.47169811]\n",
      "0.483, 0.019\n",
      "\n",
      "k = 31: [0.54929577 0.45539906 0.4741784  0.46948357 0.47169811]\n",
      "0.484, 0.033\n",
      "\n",
      "k = 32: [0.55399061 0.4741784  0.4600939  0.50234742 0.45754717]\n",
      "0.49, 0.036\n",
      "\n",
      "k = 33: [0.5399061  0.44600939 0.46948357 0.50704225 0.49528302]\n",
      "0.492, 0.032\n",
      "\n",
      "k = 34: [0.53051643 0.45539906 0.49765258 0.49765258 0.48584906]\n",
      "0.493, 0.024\n",
      "\n",
      "k = 35: [0.5258216  0.4600939  0.49295775 0.49295775 0.48113208]\n",
      "0.491, 0.021\n",
      "\n",
      "k = 40: [0.5399061  0.45070423 0.5258216  0.5258216  0.5       ]\n",
      "0.508, 0.032\n",
      "\n",
      "Highest score : 0.508 when k = 40\n"
     ]
    }
   ],
   "source": [
    "score_max = 0                      # Score_max is a temoporay variable to store the max score \n",
    "\n",
    "for param in [1, 3, 10, 20, 25, 26, 27, 28, 29, 30, 31, 32, 33, 34, 35, 40]:\n",
    "    model = KNeighborsClassifier(n_neighbors=param)\n",
    "    scores = cross_val_score(model, X_train, y_train, cv=5)\n",
    "    print(f\"k = {param}: {scores}\\n{round(scores.mean(), 3)}, {round(scores.std(), 3)}\\n\")\n",
    "    \n",
    "    if scores.mean() > score_max:\n",
    "        score_max = scores.mean()\n",
    "        param_best = param         # Param_best is a temoporay variable to store the best parameter \n",
    "        \n",
    "print(f\"Highest score : {round(score_max, 3)} when k = {param_best}\")"
   ]
  },
  {
   "cell_type": "markdown",
   "id": "b02176c5",
   "metadata": {},
   "source": [
    "### V.) Build the final model with the optimal parameter(s) found"
   ]
  },
  {
   "cell_type": "code",
   "execution_count": 31,
   "id": "b146b82d",
   "metadata": {},
   "outputs": [],
   "source": [
    "def train_test(X_train, X_test, y_train, y_test, cls):\n",
    "    cls.fit(X_train, y_train)\n",
    "    \n",
    "    y_true = y_test\n",
    "    y_pred = cls.predict(X_test)\n",
    "    \n",
    "    print(f\"Train accuracy score: {round(cls.score(X_train, y_train), 3)}\")\n",
    "    print(f\"Test accuracy score: {round(cls.score(X_test, y_test), 3)}\\n\")\n",
    "    print(confusion_matrix(y_true, y_pred))\n",
    "    print()p\n",
    "    print(classification_report(y_true, y_pred, zero_division=0))"
   ]
  },
  {
   "cell_type": "code",
   "execution_count": 32,
   "id": "58ee79a8",
   "metadata": {},
   "outputs": [
    {
     "name": "stdout",
     "output_type": "stream",
     "text": [
      "k = 40\n",
      "Train accuracy score: 0.536\n",
      "Test accuracy score: 0.526\n",
      "\n",
      "[[60 36  2]\n",
      " [32 62  9]\n",
      " [21 26 18]]\n",
      "\n",
      "              precision    recall  f1-score   support\n",
      "\n",
      "          -1       0.53      0.61      0.57        98\n",
      "           0       0.50      0.60      0.55       103\n",
      "           1       0.62      0.28      0.38        65\n",
      "\n",
      "    accuracy                           0.53       266\n",
      "   macro avg       0.55      0.50      0.50       266\n",
      "weighted avg       0.54      0.53      0.51       266\n",
      "\n",
      "CPU times: user 68.6 ms, sys: 9.02 ms, total: 77.6 ms\n",
      "Wall time: 76.8 ms\n"
     ]
    }
   ],
   "source": [
    "print(f\"k = {param_best}\")\n",
    "knc = KNeighborsClassifier(n_neighbors=param_best)\n",
    "%time train_test(X_train, X_test, y_train, y_test, knc)"
   ]
  },
  {
   "cell_type": "markdown",
   "id": "91b9d2c9",
   "metadata": {},
   "source": [
    "## 2.) Modeling with Logistic Regression"
   ]
  },
  {
   "cell_type": "code",
   "execution_count": 33,
   "id": "cc2c9d04",
   "metadata": {},
   "outputs": [
    {
     "data": {
      "text/plain": [
       "LogisticRegression(random_state=0)"
      ]
     },
     "execution_count": 33,
     "metadata": {},
     "output_type": "execute_result"
    }
   ],
   "source": [
    "from sklearn.linear_model import LogisticRegression\n",
    "\n",
    "lr = LogisticRegression(random_state=0)\n",
    "lr"
   ]
  },
  {
   "cell_type": "code",
   "execution_count": 34,
   "id": "fd8b11fa",
   "metadata": {},
   "outputs": [
    {
     "name": "stdout",
     "output_type": "stream",
     "text": [
      "[0.5258216  0.50704225 0.52112676 0.53051643 0.51886792]\n",
      "0.521, 0.008\n"
     ]
    }
   ],
   "source": [
    "# Cross validation with 5 folds\n",
    "\n",
    "scores = cross_val_score(lr, X_train, y_train, cv=5)\n",
    "print(f\"{scores}\\n{round(scores.mean(), 3)}, {round(scores.std(), 3)}\")"
   ]
  },
  {
   "cell_type": "code",
   "execution_count": 35,
   "id": "554048f0",
   "metadata": {},
   "outputs": [
    {
     "name": "stdout",
     "output_type": "stream",
     "text": [
      "Train accuracy score: 0.962\n",
      "Test accuracy score: 0.549\n",
      "\n",
      "[[72 25  1]\n",
      " [32 66  5]\n",
      " [28 29  8]]\n",
      "\n",
      "              precision    recall  f1-score   support\n",
      "\n",
      "          -1       0.55      0.73      0.63        98\n",
      "           0       0.55      0.64      0.59       103\n",
      "           1       0.57      0.12      0.20        65\n",
      "\n",
      "    accuracy                           0.55       266\n",
      "   macro avg       0.56      0.50      0.47       266\n",
      "weighted avg       0.55      0.55      0.51       266\n",
      "\n",
      "CPU times: user 6.38 s, sys: 38.6 s, total: 44.9 s\n",
      "Wall time: 5.69 s\n"
     ]
    }
   ],
   "source": [
    "%time train_test(X_train, X_test, y_train, y_test, lr)"
   ]
  },
  {
   "cell_type": "markdown",
   "id": "aba310c9",
   "metadata": {},
   "source": [
    "## 3.) Modeling with Multinomial Naive Bayes"
   ]
  },
  {
   "cell_type": "code",
   "execution_count": 36,
   "id": "149b45fb",
   "metadata": {},
   "outputs": [
    {
     "data": {
      "text/plain": [
       "MultinomialNB()"
      ]
     },
     "execution_count": 36,
     "metadata": {},
     "output_type": "execute_result"
    }
   ],
   "source": [
    "from sklearn.naive_bayes import MultinomialNB\n",
    "\n",
    "mnb = MultinomialNB()\n",
    "mnb"
   ]
  },
  {
   "cell_type": "code",
   "execution_count": 37,
   "id": "28ed3e06",
   "metadata": {},
   "outputs": [
    {
     "name": "stdout",
     "output_type": "stream",
     "text": [
      "[0.53051643 0.53051643 0.49765258 0.5258216  0.51886792]\n",
      "0.521, 0.012\n"
     ]
    }
   ],
   "source": [
    "# Cross validation with 5 folds\n",
    "\n",
    "scores = cross_val_score(mnb, X_train, y_train, cv=5)\n",
    "print(f\"{scores}\\n{round(scores.mean(), 3)}, {round(scores.std(), 3)}\")"
   ]
  },
  {
   "cell_type": "code",
   "execution_count": 38,
   "id": "630c41e0",
   "metadata": {},
   "outputs": [
    {
     "name": "stdout",
     "output_type": "stream",
     "text": [
      "Train accuracy score: 0.927\n",
      "Test accuracy score: 0.538\n",
      "\n",
      "[[69 29  0]\n",
      " [33 69  1]\n",
      " [29 31  5]]\n",
      "\n",
      "              precision    recall  f1-score   support\n",
      "\n",
      "          -1       0.53      0.70      0.60        98\n",
      "           0       0.53      0.67      0.59       103\n",
      "           1       0.83      0.08      0.14        65\n",
      "\n",
      "    accuracy                           0.54       266\n",
      "   macro avg       0.63      0.48      0.45       266\n",
      "weighted avg       0.60      0.54      0.49       266\n",
      "\n",
      "CPU times: user 3.96 ms, sys: 2.54 ms, total: 6.5 ms\n",
      "Wall time: 5.97 ms\n"
     ]
    }
   ],
   "source": [
    "%time train_test(X_train, X_test, y_train, y_test, mnb)"
   ]
  },
  {
   "cell_type": "markdown",
   "id": "c951c4cb",
   "metadata": {},
   "source": [
    "## 4.) Modeling with Decision Trees"
   ]
  },
  {
   "cell_type": "code",
   "execution_count": 39,
   "id": "0a30d06c",
   "metadata": {},
   "outputs": [
    {
     "data": {
      "text/plain": [
       "DecisionTreeClassifier(random_state=0)"
      ]
     },
     "execution_count": 39,
     "metadata": {},
     "output_type": "execute_result"
    }
   ],
   "source": [
    "from sklearn.tree import DecisionTreeClassifier\n",
    "\n",
    "dtc = DecisionTreeClassifier(random_state=0)\n",
    "dtc"
   ]
  },
  {
   "cell_type": "code",
   "execution_count": 40,
   "id": "7a59d6f1",
   "metadata": {},
   "outputs": [
    {
     "name": "stdout",
     "output_type": "stream",
     "text": [
      "[0.3943662  0.3943662  0.4741784  0.42723005 0.39622642]\n",
      "0.417, 0.031\n"
     ]
    }
   ],
   "source": [
    "# Cross validation with 5 folds\n",
    "\n",
    "scores = cross_val_score(dtc, X_train, y_train, cv=5)\n",
    "print(f\"{scores}\\n{round(scores.mean(), 3)}, {round(scores.std(), 3)}\")"
   ]
  },
  {
   "cell_type": "code",
   "execution_count": 41,
   "id": "1f0aabc6",
   "metadata": {},
   "outputs": [
    {
     "name": "stdout",
     "output_type": "stream",
     "text": [
      "Train accuracy score: 1.0\n",
      "Test accuracy score: 0.421\n",
      "\n",
      "[[56 30 12]\n",
      " [43 42 18]\n",
      " [34 17 14]]\n",
      "\n",
      "              precision    recall  f1-score   support\n",
      "\n",
      "          -1       0.42      0.57      0.48        98\n",
      "           0       0.47      0.41      0.44       103\n",
      "           1       0.32      0.22      0.26        65\n",
      "\n",
      "    accuracy                           0.42       266\n",
      "   macro avg       0.40      0.40      0.39       266\n",
      "weighted avg       0.42      0.42      0.41       266\n",
      "\n",
      "CPU times: user 95.5 ms, sys: 13.8 ms, total: 109 ms\n",
      "Wall time: 108 ms\n"
     ]
    }
   ],
   "source": [
    "%time train_test(X_train, X_test, y_train, y_test, dtc)"
   ]
  },
  {
   "cell_type": "markdown",
   "id": "0fdd2acf",
   "metadata": {},
   "source": [
    "## 5.) Modeling with Random Forest"
   ]
  },
  {
   "cell_type": "code",
   "execution_count": 42,
   "id": "6e2ba70e",
   "metadata": {},
   "outputs": [
    {
     "data": {
      "text/plain": [
       "RandomForestClassifier(random_state=0)"
      ]
     },
     "execution_count": 42,
     "metadata": {},
     "output_type": "execute_result"
    }
   ],
   "source": [
    "from sklearn.ensemble import RandomForestClassifier\n",
    "\n",
    "rfc = RandomForestClassifier(random_state=0)\n",
    "rfc"
   ]
  },
  {
   "cell_type": "code",
   "execution_count": 43,
   "id": "82503eb8",
   "metadata": {},
   "outputs": [
    {
     "name": "stdout",
     "output_type": "stream",
     "text": [
      "[0.49765258 0.49765258 0.51643192 0.52112676 0.46226415]\n",
      "0.499, 0.021\n"
     ]
    }
   ],
   "source": [
    "# Cross validation with 5 folds\n",
    "\n",
    "scores = cross_val_score(rfc, X_train, y_train, cv=5)\n",
    "print(f\"{scores}\\n{round(scores.mean(), 3)}, {round(scores.std(), 3)}\")"
   ]
  },
  {
   "cell_type": "code",
   "execution_count": 44,
   "id": "495670b5",
   "metadata": {},
   "outputs": [
    {
     "name": "stdout",
     "output_type": "stream",
     "text": [
      "Train accuracy score: 1.0\n",
      "Test accuracy score: 0.485\n",
      "\n",
      "[[70 27  1]\n",
      " [45 51  7]\n",
      " [32 25  8]]\n",
      "\n",
      "              precision    recall  f1-score   support\n",
      "\n",
      "          -1       0.48      0.71      0.57        98\n",
      "           0       0.50      0.50      0.50       103\n",
      "           1       0.50      0.12      0.20        65\n",
      "\n",
      "    accuracy                           0.48       266\n",
      "   macro avg       0.49      0.44      0.42       266\n",
      "weighted avg       0.49      0.48      0.45       266\n",
      "\n",
      "CPU times: user 894 ms, sys: 103 ms, total: 997 ms\n",
      "Wall time: 996 ms\n"
     ]
    }
   ],
   "source": [
    "%time train_test(X_train, X_test, y_train, y_test, rfc)"
   ]
  },
  {
   "cell_type": "markdown",
   "id": "7b17ec4c",
   "metadata": {},
   "source": [
    "## 6.) Modeling with Linear Support Vector Machines"
   ]
  },
  {
   "cell_type": "code",
   "execution_count": 45,
   "id": "8b06e0d7",
   "metadata": {},
   "outputs": [
    {
     "data": {
      "text/plain": [
       "LinearSVC(random_state=0)"
      ]
     },
     "execution_count": 45,
     "metadata": {},
     "output_type": "execute_result"
    }
   ],
   "source": [
    "from sklearn.svm import LinearSVC\n",
    "\n",
    "lsvc = LinearSVC(random_state=0)\n",
    "lsvc"
   ]
  },
  {
   "cell_type": "code",
   "execution_count": 46,
   "id": "dcfbb3c1",
   "metadata": {
    "scrolled": true
   },
   "outputs": [
    {
     "name": "stdout",
     "output_type": "stream",
     "text": [
      "Train accuracy score: 1.0\n",
      "Test accuracy score: 0.549\n",
      "\n",
      "[[61 29  8]\n",
      " [24 61 18]\n",
      " [16 25 24]]\n",
      "\n",
      "              precision    recall  f1-score   support\n",
      "\n",
      "          -1       0.60      0.62      0.61        98\n",
      "           0       0.53      0.59      0.56       103\n",
      "           1       0.48      0.37      0.42        65\n",
      "\n",
      "    accuracy                           0.55       266\n",
      "   macro avg       0.54      0.53      0.53       266\n",
      "weighted avg       0.55      0.55      0.54       266\n",
      "\n",
      "CPU times: user 9.69 ms, sys: 0 ns, total: 9.69 ms\n",
      "Wall time: 9.63 ms\n"
     ]
    }
   ],
   "source": [
    "%time train_test(X_train, X_test, y_train, y_test, lsvc)"
   ]
  },
  {
   "cell_type": "code",
   "execution_count": 47,
   "id": "5a8003a7",
   "metadata": {},
   "outputs": [
    {
     "name": "stdout",
     "output_type": "stream",
     "text": [
      "C = 0.01: [0.51643192 0.47887324 0.5258216  0.51643192 0.51415094]\n",
      "0.51, 0.016\n",
      "\n",
      "C = 0.03: [0.51173709 0.48356808 0.52112676 0.50704225 0.52830189]\n",
      "0.51, 0.015\n",
      "\n",
      "C = 0.1: [0.52112676 0.50704225 0.51173709 0.5258216  0.50943396]\n",
      "0.515, 0.007\n",
      "\n",
      "C = 0.3: [0.53521127 0.52112676 0.5258216  0.53521127 0.50471698]\n",
      "0.524, 0.011\n",
      "\n",
      "C = 1: [0.50234742 0.49765258 0.52112676 0.51643192 0.51415094]\n",
      "0.51, 0.009\n",
      "\n",
      "C = 3: [0.50234742 0.47887324 0.50704225 0.49295775 0.49528302]\n",
      "0.495, 0.01\n",
      "\n",
      "C = 10: [0.49765258 0.4741784  0.49765258 0.49295775 0.48584906]\n",
      "0.49, 0.009\n",
      "\n",
      "Highest score : 0.524 when C = 0.3\n"
     ]
    }
   ],
   "source": [
    "# find the optimal value for C\n",
    "\n",
    "score_max = 0\n",
    "\n",
    "for param in [0.01, 0.03, 0.1, 0.3, 1, 3, 10]:\n",
    "    model = LinearSVC(C=param, random_state=0)\n",
    "    scores = cross_val_score(model, X_train, y_train, cv=5)\n",
    "    print(f\"C = {param}: {scores}\\n{round(scores.mean(), 3)}, {round(scores.std(), 3)}\\n\")\n",
    "    \n",
    "    if scores.mean() > score_max:\n",
    "        score_max = scores.mean()\n",
    "        param_best = param\n",
    "        \n",
    "print(f\"Highest score : {round(score_max, 3)} when C = {param_best}\")"
   ]
  },
  {
   "cell_type": "code",
   "execution_count": 48,
   "id": "d71c1312",
   "metadata": {
    "scrolled": true
   },
   "outputs": [
    {
     "name": "stdout",
     "output_type": "stream",
     "text": [
      "C = 0.3\n",
      "Train accuracy score: 0.993\n",
      "Test accuracy score: 0.571\n",
      "\n",
      "[[70 26  2]\n",
      " [29 67  7]\n",
      " [23 27 15]]\n",
      "\n",
      "              precision    recall  f1-score   support\n",
      "\n",
      "          -1       0.57      0.71      0.64        98\n",
      "           0       0.56      0.65      0.60       103\n",
      "           1       0.62      0.23      0.34        65\n",
      "\n",
      "    accuracy                           0.57       266\n",
      "   macro avg       0.59      0.53      0.52       266\n",
      "weighted avg       0.58      0.57      0.55       266\n",
      "\n",
      "CPU times: user 7.26 ms, sys: 1.17 ms, total: 8.44 ms\n",
      "Wall time: 8.08 ms\n"
     ]
    }
   ],
   "source": [
    "print(f\"C = {param_best}\")\n",
    "lsvc = LinearSVC(C=param_best)\n",
    "%time train_test(X_train, X_test, y_train, y_test, lsvc)"
   ]
  },
  {
   "cell_type": "markdown",
   "id": "41eef424",
   "metadata": {},
   "source": [
    "## 7.) Modeling with Kernelized Support Vector Machines"
   ]
  },
  {
   "cell_type": "code",
   "execution_count": 49,
   "id": "c9d69db3",
   "metadata": {},
   "outputs": [
    {
     "data": {
      "text/plain": [
       "SVC(C=1, random_state=0)"
      ]
     },
     "execution_count": 49,
     "metadata": {},
     "output_type": "execute_result"
    }
   ],
   "source": [
    "from sklearn.svm import SVC\n",
    "\n",
    "svc = SVC(C=1, kernel=\"rbf\", gamma=\"scale\", random_state=0)\n",
    "svc"
   ]
  },
  {
   "cell_type": "code",
   "execution_count": 50,
   "id": "cb103b39",
   "metadata": {},
   "outputs": [
    {
     "name": "stdout",
     "output_type": "stream",
     "text": [
      "Train accuracy score: 0.999\n",
      "Test accuracy score: 0.545\n",
      "\n",
      "[[76 22  0]\n",
      " [35 68  0]\n",
      " [33 31  1]]\n",
      "\n",
      "              precision    recall  f1-score   support\n",
      "\n",
      "          -1       0.53      0.78      0.63        98\n",
      "           0       0.56      0.66      0.61       103\n",
      "           1       1.00      0.02      0.03        65\n",
      "\n",
      "    accuracy                           0.55       266\n",
      "   macro avg       0.70      0.48      0.42       266\n",
      "weighted avg       0.66      0.55      0.47       266\n",
      "\n",
      "CPU times: user 306 ms, sys: 35.8 ms, total: 342 ms\n",
      "Wall time: 341 ms\n"
     ]
    }
   ],
   "source": [
    "%time train_test(X_train, X_test, y_train, y_test, svc)"
   ]
  },
  {
   "cell_type": "code",
   "execution_count": 51,
   "id": "f6ccc34e",
   "metadata": {},
   "outputs": [
    {
     "name": "stdout",
     "output_type": "stream",
     "text": [
      "C = 0.01: [0.38497653 0.38028169 0.38028169 0.38028169 0.38207547]\n",
      "0.382, 0.002\n",
      "\n",
      "C = 0.03: [0.38497653 0.38028169 0.38028169 0.38028169 0.38207547]\n",
      "0.382, 0.002\n",
      "\n",
      "C = 0.1: [0.38497653 0.38028169 0.38028169 0.38028169 0.38207547]\n",
      "0.382, 0.002\n",
      "\n",
      "C = 0.3: [0.38497653 0.38028169 0.38028169 0.38028169 0.38207547]\n",
      "0.382, 0.002\n",
      "\n",
      "C = 1: [0.51173709 0.48826291 0.51643192 0.5258216  0.51886792]\n",
      "0.512, 0.013\n",
      "\n",
      "C = 3: [0.53521127 0.51643192 0.53521127 0.5258216  0.51415094]\n",
      "0.525, 0.009\n",
      "\n",
      "C = 10: [0.53521127 0.51643192 0.53521127 0.5258216  0.51415094]\n",
      "0.525, 0.009\n",
      "\n",
      "Highest score : 0.525 when C = 3\n"
     ]
    }
   ],
   "source": [
    "# find the optimal value for C\n",
    "\n",
    "score_max = 0\n",
    "\n",
    "for param in [0.01, 0.03, 0.1, 0.3, 1, 3, 10]:\n",
    "    model = SVC(C=param, kernel=\"rbf\", gamma=\"scale\", random_state=0)\n",
    "    scores = cross_val_score(model, X_train, y_train, cv=5)\n",
    "    print(f\"C = {param}: {scores}\\n{round(scores.mean(), 3)}, {round(scores.std(), 3)}\\n\")\n",
    "    \n",
    "    if scores.mean() > score_max:\n",
    "        score_max = scores.mean()\n",
    "        param_best = param\n",
    "        \n",
    "print(f\"Highest score : {round(score_max, 3)} when C = {param_best}\")"
   ]
  },
  {
   "cell_type": "code",
   "execution_count": 52,
   "id": "105975c2",
   "metadata": {},
   "outputs": [
    {
     "name": "stdout",
     "output_type": "stream",
     "text": [
      "C = 3\n",
      "Train accuracy score: 1.0\n",
      "Test accuracy score: 0.541\n",
      "\n",
      "[[70 27  1]\n",
      " [33 65  5]\n",
      " [25 31  9]]\n",
      "\n",
      "              precision    recall  f1-score   support\n",
      "\n",
      "          -1       0.55      0.71      0.62        98\n",
      "           0       0.53      0.63      0.58       103\n",
      "           1       0.60      0.14      0.22        65\n",
      "\n",
      "    accuracy                           0.54       266\n",
      "   macro avg       0.56      0.49      0.47       266\n",
      "weighted avg       0.55      0.54      0.51       266\n",
      "\n",
      "CPU times: user 318 ms, sys: 36.1 ms, total: 355 ms\n",
      "Wall time: 353 ms\n"
     ]
    }
   ],
   "source": [
    "print(f\"C = {param_best}\")\n",
    "svc = SVC(C=param_best)\n",
    "%time train_test(X_train, X_test, y_train, y_test, svc)"
   ]
  },
  {
   "cell_type": "markdown",
   "id": "d6821d5e",
   "metadata": {},
   "source": [
    "## 8.) Modeling with Neural Networks"
   ]
  },
  {
   "cell_type": "code",
   "execution_count": 53,
   "id": "47f98e39",
   "metadata": {},
   "outputs": [
    {
     "data": {
      "text/plain": [
       "MLPClassifier(hidden_layer_sizes=(10,), random_state=0)"
      ]
     },
     "execution_count": 53,
     "metadata": {},
     "output_type": "execute_result"
    }
   ],
   "source": [
    "from sklearn.neural_network import MLPClassifier\n",
    "\n",
    "mlpc = MLPClassifier(hidden_layer_sizes=(10, ), random_state=0)\n",
    "mlpc"
   ]
  },
  {
   "cell_type": "code",
   "execution_count": 54,
   "id": "5b0eef5e",
   "metadata": {},
   "outputs": [
    {
     "name": "stdout",
     "output_type": "stream",
     "text": [
      "Train accuracy score: 1.0\n",
      "Test accuracy score: 0.538\n",
      "\n",
      "[[52 35 11]\n",
      " [26 60 17]\n",
      " [ 9 25 31]]\n",
      "\n",
      "              precision    recall  f1-score   support\n",
      "\n",
      "          -1       0.60      0.53      0.56        98\n",
      "           0       0.50      0.58      0.54       103\n",
      "           1       0.53      0.48      0.50        65\n",
      "\n",
      "    accuracy                           0.54       266\n",
      "   macro avg       0.54      0.53      0.53       266\n",
      "weighted avg       0.54      0.54      0.54       266\n",
      "\n",
      "CPU times: user 22.1 s, sys: 1min 55s, total: 2min 17s\n",
      "Wall time: 17.1 s\n"
     ]
    }
   ],
   "source": [
    "%time train_test(X_train, X_test, y_train, y_test, mlpc)"
   ]
  },
  {
   "cell_type": "code",
   "execution_count": 55,
   "id": "65ec77d6",
   "metadata": {},
   "outputs": [
    {
     "name": "stdout",
     "output_type": "stream",
     "text": [
      "hidden_layer_size = 10: [0.50234742 0.4741784  0.49295775 0.51643192 0.48584906]\n",
      "0.494, 0.014\n",
      "\n",
      "hidden_layer_size = 30: [0.49295775 0.46948357 0.48826291 0.48826291 0.48113208]\n",
      "0.484, 0.008\n",
      "\n",
      "hidden_layer_size = 100: [0.51173709 0.46948357 0.49295775 0.48356808 0.47641509]\n",
      "0.487, 0.015\n",
      "\n",
      "Highest score : 0.494 when hidden_layer_sizes = 10\n"
     ]
    }
   ],
   "source": [
    "# find the optimal hidden layer size\n",
    "\n",
    "score_max = 0\n",
    "\n",
    "for param in [10, 30, 100]:\n",
    "    model = MLPClassifier(hidden_layer_sizes=(param, ), random_state=0)\n",
    "    scores = cross_val_score(model, X_train, y_train, cv=5)\n",
    "    print(f\"hidden_layer_size = {param}: {scores}\\n{round(scores.mean(), 3)}, {round(scores.std(), 3)}\\n\")\n",
    "    \n",
    "    if scores.mean() > score_max:\n",
    "        score_max = scores.mean()\n",
    "        param_best = param\n",
    "        \n",
    "print(f\"Highest score : {round(score_max, 3)} when hidden_layer_sizes = {param_best}\")"
   ]
  },
  {
   "cell_type": "code",
   "execution_count": 56,
   "id": "107f952a",
   "metadata": {},
   "outputs": [
    {
     "name": "stdout",
     "output_type": "stream",
     "text": [
      "hidden_layer_size = 10\n",
      "Train accuracy score: 1.0\n",
      "Test accuracy score: 0.538\n",
      "\n",
      "[[52 35 11]\n",
      " [26 60 17]\n",
      " [ 9 25 31]]\n",
      "\n",
      "              precision    recall  f1-score   support\n",
      "\n",
      "          -1       0.60      0.53      0.56        98\n",
      "           0       0.50      0.58      0.54       103\n",
      "           1       0.53      0.48      0.50        65\n",
      "\n",
      "    accuracy                           0.54       266\n",
      "   macro avg       0.54      0.53      0.53       266\n",
      "weighted avg       0.54      0.54      0.54       266\n",
      "\n",
      "CPU times: user 20.3 s, sys: 1min 50s, total: 2min 10s\n",
      "Wall time: 16.3 s\n"
     ]
    }
   ],
   "source": [
    "print(f\"hidden_layer_size = {param_best}\")\n",
    "mlpc = MLPClassifier(hidden_layer_sizes=(param_best, ), random_state=0)\n",
    "%time train_test(X_train, X_test, y_train, y_test, mlpc)"
   ]
  },
  {
   "cell_type": "markdown",
   "id": "d743f3e0",
   "metadata": {},
   "source": [
    "# C.) Choosing the Best Model"
   ]
  },
  {
   "cell_type": "code",
   "execution_count": 57,
   "id": "c9284f73",
   "metadata": {
    "scrolled": false
   },
   "outputs": [
    {
     "data": {
      "text/plain": [
       "{'k-NNs': 0.519,\n",
       " 'Logistic Regression': 0.549,\n",
       " 'Multinomial Naive Bayes': 0.538,\n",
       " 'Decision Trees': 0.421,\n",
       " 'Random Forest': 0.485,\n",
       " 'Linear SVMs': 0.571,\n",
       " 'Kernelized SVMs': 0.541,\n",
       " 'Neural Networks': 0.538}"
      ]
     },
     "execution_count": 57,
     "metadata": {},
     "output_type": "execute_result"
    }
   ],
   "source": [
    "# Add final results from each model type to the summary dictionary\n",
    "\n",
    "summary = {}\n",
    "summary[\"k-NNs\"] = round(knc.score(X_test, y_test), 3)\n",
    "summary[\"Logistic Regression\"] = round(lr.score(X_test, y_test), 3)\n",
    "summary[\"Multinomial Naive Bayes\"] = round(mnb.score(X_test, y_test), 3)\n",
    "summary[\"Decision Trees\"] = round(dtc.score(X_test, y_test), 3)\n",
    "summary[\"Random Forest\"] = round(rfc.score(X_test, y_test), 3)\n",
    "summary[\"Linear SVMs\"] = round(lsvc.score(X_test, y_test), 3)\n",
    "summary[\"Kernelized SVMs\"] = round(svc.score(X_test, y_test), 3)\n",
    "summary[\"Neural Networks\"] = round(mlpc.score(X_test, y_test), 3)\n",
    "\n",
    "summary"
   ]
  },
  {
   "cell_type": "markdown",
   "id": "b681cd32",
   "metadata": {},
   "source": [
    "### Best model is the Linear SVMs model with an Accuracy score of 0.571"
   ]
  },
  {
   "cell_type": "raw",
   "id": "15c80e69",
   "metadata": {},
   "source": [
    "C = 0.3\n",
    "Train accuracy score: 0.993\n",
    "Test accuracy score: 0.571\n",
    "\n",
    "[70 26  2]\n",
    "[29 67  7]\n",
    "[23 27 15]\n",
    "\n",
    "              precision    recall  f1-score   support\n",
    "\n",
    "          -1       0.57      0.71      0.64        98\n",
    "           0       0.56      0.65      0.60       103\n",
    "           1       0.62      0.23      0.34        65\n",
    "\n",
    "    accuracy                           0.57       266\n",
    "   macro avg       0.59      0.53      0.52       266\n",
    "weighted avg       0.58      0.57      0.55       266"
   ]
  },
  {
   "cell_type": "markdown",
   "id": "8d647a9f",
   "metadata": {},
   "source": [
    "# D.) Testing the Best Model on New Data"
   ]
  },
  {
   "cell_type": "markdown",
   "id": "7a5b363e",
   "metadata": {},
   "source": [
    "### Randomly sample 20 sentences from unclassified data scraped from the website"
   ]
  },
  {
   "cell_type": "code",
   "execution_count": 58,
   "id": "955246f0",
   "metadata": {},
   "outputs": [
    {
     "data": {
      "text/html": [
       "<div>\n",
       "<style scoped>\n",
       "    .dataframe tbody tr th:only-of-type {\n",
       "        vertical-align: middle;\n",
       "    }\n",
       "\n",
       "    .dataframe tbody tr th {\n",
       "        vertical-align: top;\n",
       "    }\n",
       "\n",
       "    .dataframe thead th {\n",
       "        text-align: right;\n",
       "    }\n",
       "</style>\n",
       "<table border=\"1\" class=\"dataframe\">\n",
       "  <thead>\n",
       "    <tr style=\"text-align: right;\">\n",
       "      <th></th>\n",
       "      <th>Unnamed: 0</th>\n",
       "      <th>sentence</th>\n",
       "      <th>subjectivity</th>\n",
       "      <th>length</th>\n",
       "    </tr>\n",
       "  </thead>\n",
       "  <tbody>\n",
       "    <tr>\n",
       "      <th>0</th>\n",
       "      <td>0</td>\n",
       "      <td>PANAMA CITY (Reuters) - Panama registered its first case of monkeypox in a resident who was infected after being in contact with tourists from Europe, Panama's health ministry said Tuesday.</td>\n",
       "      <td>0.333333</td>\n",
       "      <td>189</td>\n",
       "    </tr>\n",
       "    <tr>\n",
       "      <th>1</th>\n",
       "      <td>1</td>\n",
       "      <td>\"Yesterday in the afternoon, the first case of monkeypox in our country was confirmed,\" Health Minister Luis Sucre said during a press conference, adding the patient \"is completely stable\" and the...</td>\n",
       "      <td>0.458333</td>\n",
       "      <td>227</td>\n",
       "    </tr>\n",
       "    <tr>\n",
       "      <th>2</th>\n",
       "      <td>2</td>\n",
       "      <td>The patient, whose nationality and sex were not revealed, was isolating at home after being notified of a possible monkeypox infection, Sucre said.</td>\n",
       "      <td>1.000000</td>\n",
       "      <td>147</td>\n",
       "    </tr>\n",
       "    <tr>\n",
       "      <th>3</th>\n",
       "      <td>3</td>\n",
       "      <td>The person was later transferred to a medical facility.</td>\n",
       "      <td>0.000000</td>\n",
       "      <td>55</td>\n",
       "    </tr>\n",
       "    <tr>\n",
       "      <th>4</th>\n",
       "      <td>4</td>\n",
       "      <td>Three lesions typical of monkeypox were found on the patient's body, though the person is \"practically asymptomatic,\" authorities said.</td>\n",
       "      <td>0.500000</td>\n",
       "      <td>135</td>\n",
       "    </tr>\n",
       "    <tr>\n",
       "      <th>...</th>\n",
       "      <td>...</td>\n",
       "      <td>...</td>\n",
       "      <td>...</td>\n",
       "      <td>...</td>\n",
       "    </tr>\n",
       "    <tr>\n",
       "      <th>290553</th>\n",
       "      <td>292553</td>\n",
       "      <td>The study was funded by grants to multiple researchers from the National Science and Technology Major Project of the Ministry of Science and Technology of China and other government sources.</td>\n",
       "      <td>0.291667</td>\n",
       "      <td>190</td>\n",
       "    </tr>\n",
       "    <tr>\n",
       "      <th>290554</th>\n",
       "      <td>292554</td>\n",
       "      <td>The researchers have disclosed no relevant financial relationships.</td>\n",
       "      <td>0.450000</td>\n",
       "      <td>67</td>\n",
       "    </tr>\n",
       "    <tr>\n",
       "      <th>290555</th>\n",
       "      <td>292555</td>\n",
       "      <td>Chest.</td>\n",
       "      <td>0.000000</td>\n",
       "      <td>6</td>\n",
       "    </tr>\n",
       "    <tr>\n",
       "      <th>290556</th>\n",
       "      <td>292556</td>\n",
       "      <td>Published online July 18, 2022.</td>\n",
       "      <td>0.000000</td>\n",
       "      <td>31</td>\n",
       "    </tr>\n",
       "    <tr>\n",
       "      <th>290557</th>\n",
       "      <td>292557</td>\n",
       "      <td>Abstract   For more news, follow Medscape on Facebook, Twitter, Instagram, and YouTube.</td>\n",
       "      <td>0.500000</td>\n",
       "      <td>87</td>\n",
       "    </tr>\n",
       "  </tbody>\n",
       "</table>\n",
       "<p>290558 rows × 4 columns</p>\n",
       "</div>"
      ],
      "text/plain": [
       "        Unnamed: 0  \\\n",
       "0                0   \n",
       "1                1   \n",
       "2                2   \n",
       "3                3   \n",
       "4                4   \n",
       "...            ...   \n",
       "290553      292553   \n",
       "290554      292554   \n",
       "290555      292555   \n",
       "290556      292556   \n",
       "290557      292557   \n",
       "\n",
       "                                                                                                                                                                                                       sentence  \\\n",
       "0                 PANAMA CITY (Reuters) - Panama registered its first case of monkeypox in a resident who was infected after being in contact with tourists from Europe, Panama's health ministry said Tuesday.   \n",
       "1       \"Yesterday in the afternoon, the first case of monkeypox in our country was confirmed,\" Health Minister Luis Sucre said during a press conference, adding the patient \"is completely stable\" and the...   \n",
       "2                                                           The patient, whose nationality and sex were not revealed, was isolating at home after being notified of a possible monkeypox infection, Sucre said.   \n",
       "3                                                                                                                                                       The person was later transferred to a medical facility.   \n",
       "4                                                                       Three lesions typical of monkeypox were found on the patient's body, though the person is \"practically asymptomatic,\" authorities said.   \n",
       "...                                                                                                                                                                                                         ...   \n",
       "290553           The study was funded by grants to multiple researchers from the National Science and Technology Major Project of the Ministry of Science and Technology of China and other government sources.   \n",
       "290554                                                                                                                                      The researchers have disclosed no relevant financial relationships.   \n",
       "290555                                                                                                                                                                                                   Chest.   \n",
       "290556                                                                                                                                                                          Published online July 18, 2022.   \n",
       "290557                                                                                                                  Abstract   For more news, follow Medscape on Facebook, Twitter, Instagram, and YouTube.   \n",
       "\n",
       "        subjectivity  length  \n",
       "0           0.333333     189  \n",
       "1           0.458333     227  \n",
       "2           1.000000     147  \n",
       "3           0.000000      55  \n",
       "4           0.500000     135  \n",
       "...              ...     ...  \n",
       "290553      0.291667     190  \n",
       "290554      0.450000      67  \n",
       "290555      0.000000       6  \n",
       "290556      0.000000      31  \n",
       "290557      0.500000      87  \n",
       "\n",
       "[290558 rows x 4 columns]"
      ]
     },
     "execution_count": 58,
     "metadata": {},
     "output_type": "execute_result"
    }
   ],
   "source": [
    "# Read in non-classified sentences CSV\n",
    "\n",
    "unclass = pd.read_csv(\"non2000Data.csv\", sep=\"\\t\")\n",
    "unclass"
   ]
  },
  {
   "cell_type": "code",
   "execution_count": 59,
   "id": "bffee823",
   "metadata": {},
   "outputs": [],
   "source": [
    "# Randomly select 20 rows of non-classified data\n",
    "\n",
    "test_records = unclass.sample(n=20, replace=False, random_state=1)   "
   ]
  },
  {
   "cell_type": "code",
   "execution_count": 60,
   "id": "d59f2c8e",
   "metadata": {},
   "outputs": [],
   "source": [
    "# get list of sampled sentences alone\n",
    "\n",
    "sentences = []\n",
    "\n",
    "for idx, item in test_records.sentence.iteritems():\n",
    "    sentences.append(item)"
   ]
  },
  {
   "cell_type": "code",
   "execution_count": 61,
   "id": "48aa0adf",
   "metadata": {},
   "outputs": [],
   "source": [
    "# transform sentences to apply model\n",
    "\n",
    "sentences_new = vectorizer.transform(sentences)"
   ]
  },
  {
   "cell_type": "code",
   "execution_count": 62,
   "id": "f1c46969",
   "metadata": {},
   "outputs": [
    {
     "data": {
      "text/plain": [
       "array([-1,  1, -1, -1,  1,  0, -1,  0,  0,  0,  0,  0, -1, -1,  0, -1, -1,\n",
       "        0,  0,  0])"
      ]
     },
     "execution_count": 62,
     "metadata": {},
     "output_type": "execute_result"
    }
   ],
   "source": [
    "# get list of predicted values for the randomly sampled sentences\n",
    "\n",
    "lsvc.predict(sentences_new)"
   ]
  },
  {
   "cell_type": "code",
   "execution_count": 63,
   "id": "e8b28205",
   "metadata": {},
   "outputs": [
    {
     "data": {
      "text/html": [
       "<div>\n",
       "<style scoped>\n",
       "    .dataframe tbody tr th:only-of-type {\n",
       "        vertical-align: middle;\n",
       "    }\n",
       "\n",
       "    .dataframe tbody tr th {\n",
       "        vertical-align: top;\n",
       "    }\n",
       "\n",
       "    .dataframe thead th {\n",
       "        text-align: right;\n",
       "    }\n",
       "</style>\n",
       "<table border=\"1\" class=\"dataframe\">\n",
       "  <thead>\n",
       "    <tr style=\"text-align: right;\">\n",
       "      <th></th>\n",
       "      <th>sentence</th>\n",
       "      <th>polarity</th>\n",
       "    </tr>\n",
       "  </thead>\n",
       "  <tbody>\n",
       "    <tr>\n",
       "      <th>0</th>\n",
       "      <td>Butler was in the fifth month of her pregnancy, one day past 21 weeks gestation.</td>\n",
       "      <td>-1</td>\n",
       "    </tr>\n",
       "    <tr>\n",
       "      <th>1</th>\n",
       "      <td>This article originally appeared on MDedge.com, part of the Medscape Professional Network.</td>\n",
       "      <td>1</td>\n",
       "    </tr>\n",
       "    <tr>\n",
       "      <th>2</th>\n",
       "      <td>Although the technique hasn't been consistently successful, its overall trial experience has intrigued and impressed the field enough for it to explore the treatment in increasingly more instructi...</td>\n",
       "      <td>-1</td>\n",
       "    </tr>\n",
       "    <tr>\n",
       "      <th>3</th>\n",
       "      <td>But she acknowledged that the optimal blood pressure management strategy in these patients remains uncertain and should be the focus of future research.</td>\n",
       "      <td>-1</td>\n",
       "    </tr>\n",
       "    <tr>\n",
       "      <th>4</th>\n",
       "      <td>\"But I think it's also important to note that the data that they use in this study isn't perfect for measuring things like readmissions.\"</td>\n",
       "      <td>1</td>\n",
       "    </tr>\n",
       "    <tr>\n",
       "      <th>5</th>\n",
       "      <td>Among both completers and non-completers there was an over-representation of individuals aged 18-34 years and women compared with the general population, and fewer participants aged at least 65 ye...</td>\n",
       "      <td>0</td>\n",
       "    </tr>\n",
       "    <tr>\n",
       "      <th>6</th>\n",
       "      <td>\"There are abbreviations that are really hard to understand even after you expand them such as MI for myocardial infarction, which is really a tough term all around.</td>\n",
       "      <td>-1</td>\n",
       "    </tr>\n",
       "    <tr>\n",
       "      <th>7</th>\n",
       "      <td>Also weighing in on the study, Amit Singal, MD, chief of hepatology at UT Southwestern Medical Center in Dallas, Texas, said this study highlights that underlying cirrhosis is \"the strongest risk ...</td>\n",
       "      <td>0</td>\n",
       "    </tr>\n",
       "    <tr>\n",
       "      <th>8</th>\n",
       "      <td>To change that, bioengineers have created a new hydrogel formula that dissolves rapidly from wound sites, melting off in 6 minutes or less.</td>\n",
       "      <td>0</td>\n",
       "    </tr>\n",
       "    <tr>\n",
       "      <th>9</th>\n",
       "      <td>The procedure duration was reduced by almost 21 minutes, cutting the time from nearly 39 minutes to less than 18 minutes (P &lt; .001).</td>\n",
       "      <td>0</td>\n",
       "    </tr>\n",
       "    <tr>\n",
       "      <th>10</th>\n",
       "      <td>Providers and patients report mostly good results, save for the high price tag.</td>\n",
       "      <td>0</td>\n",
       "    </tr>\n",
       "    <tr>\n",
       "      <th>11</th>\n",
       "      <td>REBOA could be considered in patients who respond to infusions/transfusions, and who are suspected to have thoracic aorta injury, but not for patients who don't meet those criteria, he said.</td>\n",
       "      <td>0</td>\n",
       "    </tr>\n",
       "    <tr>\n",
       "      <th>12</th>\n",
       "      <td>The winners are being announced at the BARDA Industry Day, a virtual event held  today and tomorrow.</td>\n",
       "      <td>-1</td>\n",
       "    </tr>\n",
       "    <tr>\n",
       "      <th>13</th>\n",
       "      <td>\"The shift in the skin manifestations makes sense when you think about the change that is also being seen in the systemic symptoms,\" said Freeman, referring to lower rates of cough and loss of sme...</td>\n",
       "      <td>-1</td>\n",
       "    </tr>\n",
       "    <tr>\n",
       "      <th>14</th>\n",
       "      <td>Cudjoe noted that the mechanism behind the association between social isolation and dementia in this population needs further study.</td>\n",
       "      <td>0</td>\n",
       "    </tr>\n",
       "    <tr>\n",
       "      <th>15</th>\n",
       "      <td>And the reliability of oral challenges to edible cannabis products or hemp seed and sensitization to other allergens including molds, pollens, and foods is unknown.</td>\n",
       "      <td>-1</td>\n",
       "    </tr>\n",
       "    <tr>\n",
       "      <th>16</th>\n",
       "      <td>Few non-English speakers received language-concordant care.</td>\n",
       "      <td>-1</td>\n",
       "    </tr>\n",
       "    <tr>\n",
       "      <th>17</th>\n",
       "      <td>In a review and meta-analysis of 36 studies and more than 5000 psychiatrists in European countries, as well as the United States, Australia, New Zealand, India, Turkey, and Thailand, results showe...</td>\n",
       "      <td>0</td>\n",
       "    </tr>\n",
       "    <tr>\n",
       "      <th>18</th>\n",
       "      <td>They set out to recruit 200 patients with MDD who had a documented 5-year medical and treatment history, including alterations in treatment, adverse events, hospitalizations, suicide, and symptom ...</td>\n",
       "      <td>0</td>\n",
       "    </tr>\n",
       "    <tr>\n",
       "      <th>19</th>\n",
       "      <td>A phase 3 study of CoVac-1 versus placebo is under discussion and would require about 300-500 subjects, Walz said.</td>\n",
       "      <td>0</td>\n",
       "    </tr>\n",
       "  </tbody>\n",
       "</table>\n",
       "</div>"
      ],
      "text/plain": [
       "                                                                                                                                                                                                   sentence  \\\n",
       "0                                                                                                                          Butler was in the fifth month of her pregnancy, one day past 21 weeks gestation.   \n",
       "1                                                                                                                This article originally appeared on MDedge.com, part of the Medscape Professional Network.   \n",
       "2   Although the technique hasn't been consistently successful, its overall trial experience has intrigued and impressed the field enough for it to explore the treatment in increasingly more instructi...   \n",
       "3                                                  But she acknowledged that the optimal blood pressure management strategy in these patients remains uncertain and should be the focus of future research.   \n",
       "4                                                                 \"But I think it's also important to note that the data that they use in this study isn't perfect for measuring things like readmissions.\"   \n",
       "5   Among both completers and non-completers there was an over-representation of individuals aged 18-34 years and women compared with the general population, and fewer participants aged at least 65 ye...   \n",
       "6                                     \"There are abbreviations that are really hard to understand even after you expand them such as MI for myocardial infarction, which is really a tough term all around.   \n",
       "7   Also weighing in on the study, Amit Singal, MD, chief of hepatology at UT Southwestern Medical Center in Dallas, Texas, said this study highlights that underlying cirrhosis is \"the strongest risk ...   \n",
       "8                                                               To change that, bioengineers have created a new hydrogel formula that dissolves rapidly from wound sites, melting off in 6 minutes or less.   \n",
       "9                                                                      The procedure duration was reduced by almost 21 minutes, cutting the time from nearly 39 minutes to less than 18 minutes (P < .001).   \n",
       "10                                                                                                                          Providers and patients report mostly good results, save for the high price tag.   \n",
       "11           REBOA could be considered in patients who respond to infusions/transfusions, and who are suspected to have thoracic aorta injury, but not for patients who don't meet those criteria, he said.   \n",
       "12                                                                                                     The winners are being announced at the BARDA Industry Day, a virtual event held  today and tomorrow.   \n",
       "13  \"The shift in the skin manifestations makes sense when you think about the change that is also being seen in the systemic symptoms,\" said Freeman, referring to lower rates of cough and loss of sme...   \n",
       "14                                                                     Cudjoe noted that the mechanism behind the association between social isolation and dementia in this population needs further study.   \n",
       "15                                     And the reliability of oral challenges to edible cannabis products or hemp seed and sensitization to other allergens including molds, pollens, and foods is unknown.   \n",
       "16                                                                                                                                              Few non-English speakers received language-concordant care.   \n",
       "17  In a review and meta-analysis of 36 studies and more than 5000 psychiatrists in European countries, as well as the United States, Australia, New Zealand, India, Turkey, and Thailand, results showe...   \n",
       "18  They set out to recruit 200 patients with MDD who had a documented 5-year medical and treatment history, including alterations in treatment, adverse events, hospitalizations, suicide, and symptom ...   \n",
       "19                                                                                       A phase 3 study of CoVac-1 versus placebo is under discussion and would require about 300-500 subjects, Walz said.   \n",
       "\n",
       "    polarity  \n",
       "0         -1  \n",
       "1          1  \n",
       "2         -1  \n",
       "3         -1  \n",
       "4          1  \n",
       "5          0  \n",
       "6         -1  \n",
       "7          0  \n",
       "8          0  \n",
       "9          0  \n",
       "10         0  \n",
       "11         0  \n",
       "12        -1  \n",
       "13        -1  \n",
       "14         0  \n",
       "15        -1  \n",
       "16        -1  \n",
       "17         0  \n",
       "18         0  \n",
       "19         0  "
      ]
     },
     "execution_count": 63,
     "metadata": {},
     "output_type": "execute_result"
    }
   ],
   "source": [
    "# create dataframe to list sampled sentences and polarity scores from Linear SVMs model\n",
    "\n",
    "test_performance = pd.DataFrame()\n",
    "\n",
    "test_performance['sentence'] = sentences\n",
    "test_performance['polarity'] = lsvc.predict(sentences_new)\n",
    "\n",
    "test_performance"
   ]
  }
 ],
 "metadata": {
  "kernelspec": {
   "display_name": "Python 3 (ipykernel)",
   "language": "python",
   "name": "python3"
  },
  "language_info": {
   "codemirror_mode": {
    "name": "ipython",
    "version": 3
   },
   "file_extension": ".py",
   "mimetype": "text/x-python",
   "name": "python",
   "nbconvert_exporter": "python",
   "pygments_lexer": "ipython3",
   "version": "3.9.1"
  }
 },
 "nbformat": 4,
 "nbformat_minor": 5
}
